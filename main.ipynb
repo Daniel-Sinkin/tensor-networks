{
 "cells": [
  {
   "cell_type": "code",
   "execution_count": 1,
   "metadata": {},
   "outputs": [
    {
     "name": "stdout",
     "output_type": "stream",
     "text": [
      "Updated left block tensor shape: (5, 2, 5)\n",
      "Time taken for contraction: 0.000146 seconds\n",
      "Result L_new:\n",
      "[[[34.663723 26.858585 33.36639  32.125824 27.188856]\n",
      "  [55.537937 42.99234  53.6211   51.601807 43.741142]]\n",
      "\n",
      " [[56.357765 43.743336 54.18474  52.343353 44.26127 ]\n",
      "  [58.09102  45.2945   56.1056   54.23579  45.752384]]\n",
      "\n",
      " [[69.852066 54.016068 67.40987  65.05545  54.792088]\n",
      "  [71.77674  55.322716 69.28301  66.63314  56.37684 ]]\n",
      "\n",
      " [[47.829716 36.662415 45.95102  44.417404 37.429245]\n",
      "  [42.410645 33.19967  40.975796 39.55999  33.468327]]\n",
      "\n",
      " [[61.807793 47.470493 59.46248  57.267056 48.38548 ]\n",
      "  [62.56972  48.62532  60.348206 58.214478 49.143665]]]\n"
     ]
    }
   ],
   "source": [
    "import numpy as np\n",
    "import time\n",
    "\n",
    "def updateL(L, A, W, A_star):\n",
    "    \"\"\"\n",
    "    Perform the UpdateL tensor contraction with the following steps:\n",
    "      1. Contract L (shape: [a, i, b]) with A (shape: [b, j, c]) over index b.\n",
    "      2. Contract the intermediate tensor (shape: [a, i, j, c]) with W (shape: [c, j, k, d])\n",
    "         over indices c and j.\n",
    "      3. Contract the result (shape: [a, i, j, k, d]) with A_star (shape: [d, k, e])\n",
    "         over indices d and k.\n",
    "    The final result L_new has shape (a, i, e).\n",
    "    \"\"\"\n",
    "    # Step 1: Contract L and A over index \"b\"\n",
    "    T1 = np.einsum(\"aib, bjc -> aijc\", L, A)\n",
    "    \n",
    "    # Step 2: Contract T1 with W over indices \"c\" and \"j\"\n",
    "    T2 = np.einsum(\"aijc, cjkd -> aijkd\", T1, W)\n",
    "    \n",
    "    # Step 3: Contract T2 with A_star over indices \"d\" and \"k\"\n",
    "    L_new = np.einsum(\"aijkd, dke -> aie\", T2, A_star)\n",
    "    \n",
    "    return L_new\n",
    "\n",
    "def main():\n",
    "    # Define dimensions (example values)\n",
    "    # L: (a, i, b), A: (b, j, c), W: (c, j, k, d), A_star: (d, k, e)\n",
    "    a = 5    # left bond dimension for L and the result\n",
    "    i = 2    # physical index dimension (s)\n",
    "    b = 6    # bond dimension connecting L and A\n",
    "    j = 2    # physical index (same as i)\n",
    "    c = 7    # bond dimension connecting A and W\n",
    "    k = 2    # physical index (same as j)\n",
    "    d = 5    # bond dimension connecting W and A_star\n",
    "    e = 5    # final bond dimension for the result\n",
    "\n",
    "    # Create random tensors (using np.float32 for precision)\n",
    "    L = np.random.rand(a, i, b).astype(np.float32)\n",
    "    A = np.random.rand(b, j, c).astype(np.float32)\n",
    "    W = np.random.rand(c, j, k, d).astype(np.float32)\n",
    "    A_star = np.random.rand(d, k, e).astype(np.float32)\n",
    "    \n",
    "    # Measure the time for the contraction\n",
    "    start = time.perf_counter()\n",
    "    L_new = updateL(L, A, W, A_star)\n",
    "    end = time.perf_counter()\n",
    "    \n",
    "    print(\"Updated left block tensor shape:\", L_new.shape)\n",
    "    print(\"Time taken for contraction: {:.6f} seconds\".format(end - start))\n",
    "    print(\"Result L_new:\")\n",
    "    print(L_new)\n",
    "\n",
    "if __name__ == \"__main__\":\n",
    "    main()"
   ]
  },
  {
   "cell_type": "code",
   "execution_count": null,
   "metadata": {},
   "outputs": [],
   "source": []
  }
 ],
 "metadata": {
  "kernelspec": {
   "display_name": ".venv",
   "language": "python",
   "name": "python3"
  },
  "language_info": {
   "codemirror_mode": {
    "name": "ipython",
    "version": 3
   },
   "file_extension": ".py",
   "mimetype": "text/x-python",
   "name": "python",
   "nbconvert_exporter": "python",
   "pygments_lexer": "ipython3",
   "version": "3.13.1"
  }
 },
 "nbformat": 4,
 "nbformat_minor": 2
}
